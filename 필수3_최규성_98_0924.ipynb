{
 "cells": [
  {
   "cell_type": "code",
   "execution_count": 18,
   "id": "920bceba",
   "metadata": {},
   "outputs": [
    {
     "name": "stdout",
     "output_type": "stream",
     "text": [
      "<class 'pandas.core.frame.DataFrame'>\n",
      "RangeIndex: 5689512 entries, 0 to 5689511\n",
      "Data columns (total 61 columns):\n",
      " #   Column                                   Dtype  \n",
      "---  ------                                   -----  \n",
      " 0   FlightDate                               object \n",
      " 1   Airline                                  object \n",
      " 2   Origin                                   object \n",
      " 3   Dest                                     object \n",
      " 4   Cancelled                                bool   \n",
      " 5   Diverted                                 bool   \n",
      " 6   CRSDepTime                               int64  \n",
      " 7   DepTime                                  float64\n",
      " 8   DepDelayMinutes                          float64\n",
      " 9   DepDelay                                 float64\n",
      " 10  ArrTime                                  float64\n",
      " 11  ArrDelayMinutes                          float64\n",
      " 12  AirTime                                  float64\n",
      " 13  CRSElapsedTime                           float64\n",
      " 14  ActualElapsedTime                        float64\n",
      " 15  Distance                                 float64\n",
      " 16  Year                                     int64  \n",
      " 17  Quarter                                  int64  \n",
      " 18  Month                                    int64  \n",
      " 19  DayofMonth                               int64  \n",
      " 20  DayOfWeek                                int64  \n",
      " 21  Marketing_Airline_Network                object \n",
      " 22  Operated_or_Branded_Code_Share_Partners  object \n",
      " 23  DOT_ID_Marketing_Airline                 int64  \n",
      " 24  IATA_Code_Marketing_Airline              object \n",
      " 25  Flight_Number_Marketing_Airline          int64  \n",
      " 26  Operating_Airline                        object \n",
      " 27  DOT_ID_Operating_Airline                 int64  \n",
      " 28  IATA_Code_Operating_Airline              object \n",
      " 29  Tail_Number                              object \n",
      " 30  Flight_Number_Operating_Airline          int64  \n",
      " 31  OriginAirportID                          int64  \n",
      " 32  OriginAirportSeqID                       int64  \n",
      " 33  OriginCityMarketID                       int64  \n",
      " 34  OriginCityName                           object \n",
      " 35  OriginState                              object \n",
      " 36  OriginStateFips                          int64  \n",
      " 37  OriginStateName                          object \n",
      " 38  OriginWac                                int64  \n",
      " 39  DestAirportID                            int64  \n",
      " 40  DestAirportSeqID                         int64  \n",
      " 41  DestCityMarketID                         int64  \n",
      " 42  DestCityName                             object \n",
      " 43  DestState                                object \n",
      " 44  DestStateFips                            int64  \n",
      " 45  DestStateName                            object \n",
      " 46  DestWac                                  int64  \n",
      " 47  DepDel15                                 float64\n",
      " 48  DepartureDelayGroups                     float64\n",
      " 49  DepTimeBlk                               object \n",
      " 50  TaxiOut                                  float64\n",
      " 51  WheelsOff                                float64\n",
      " 52  WheelsOn                                 float64\n",
      " 53  TaxiIn                                   float64\n",
      " 54  CRSArrTime                               int64  \n",
      " 55  ArrDelay                                 float64\n",
      " 56  ArrDel15                                 float64\n",
      " 57  ArrivalDelayGroups                       float64\n",
      " 58  ArrTimeBlk                               object \n",
      " 59  DistanceGroup                            int64  \n",
      " 60  DivAirportLandings                       float64\n",
      "dtypes: bool(2), float64(19), int64(22), object(18)\n",
      "memory usage: 2.5+ GB\n"
     ]
    }
   ],
   "source": [
    "import numpy as np\n",
    "import pandas as pd\n",
    "\n",
    "from sklearn.linear_model import LogisticRegression\n",
    "from sklearn.tree import DecisionTreeClassifier\n",
    "from sklearn.ensemble import RandomForestClassifier\n",
    "from sklearn.neighbors import KNeighborsClassifier\n",
    "from sklearn.metrics import accuracy_score, precision_score, recall_score, roc_curve, auc\n",
    "import matplotlib.pyplot as plt\n",
    "df = pd.read_csv(\"Combined_Flights_2018.csv\")\n",
    "df.info()"
   ]
  },
  {
   "cell_type": "code",
   "execution_count": 19,
   "id": "4bab25e2",
   "metadata": {
    "scrolled": false
   },
   "outputs": [
    {
     "name": "stdout",
     "output_type": "stream",
     "text": [
      "         Cancelled  DepDelay  ArrDelay  DepTime  DepDelayMinutes  DepDel15  \\\n",
      "0            False      -5.0      -8.0   1157.0              0.0       0.0   \n",
      "1            False      -5.0      -6.0   1157.0              0.0       0.0   \n",
      "2            False      -9.0      -2.0   1153.0              0.0       0.0   \n",
      "3            False     -12.0     -11.0   1150.0              0.0       0.0   \n",
      "4            False      -5.0      -1.0   1355.0              0.0       0.0   \n",
      "...            ...       ...       ...      ...              ...       ...   \n",
      "5689507      False     -12.0     -31.0   1433.0              0.0       0.0   \n",
      "5689508      False     -11.0     -11.0   1224.0              0.0       0.0   \n",
      "5689509      False     -14.0     -27.0   1016.0              0.0       0.0   \n",
      "5689510      False      -7.0      -9.0   1403.0              0.0       0.0   \n",
      "5689511      False      -6.0     -14.0   1754.0              0.0       0.0   \n",
      "\n",
      "         ArrTime  ArrDelayMinutes  ArrDel15  \n",
      "0         1256.0              0.0       0.0  \n",
      "1         1258.0              0.0       0.0  \n",
      "2         1302.0              0.0       0.0  \n",
      "3         1253.0              0.0       0.0  \n",
      "4         1459.0              0.0       0.0  \n",
      "...          ...              ...       ...  \n",
      "5689507   1515.0              0.0       0.0  \n",
      "5689508   1344.0              0.0       0.0  \n",
      "5689509   1137.0              0.0       0.0  \n",
      "5689510   1717.0              0.0       0.0  \n",
      "5689511   1919.0              0.0       0.0  \n",
      "\n",
      "[5689512 rows x 9 columns]\n"
     ]
    }
   ],
   "source": [
    "# 특정 칼럼들만 추출\n",
    "selected_columns = ['Cancelled','DepDelay','ArrDelay','DepTime','DepDelayMinutes','DepDel15',\n",
    "                    'ArrTime','ArrDelayMinutes','ArrDel15']\n",
    "df_selected = df[selected_columns]\n",
    "\n",
    "print(df_selected)"
   ]
  },
  {
   "cell_type": "code",
   "execution_count": 20,
   "id": "63cbda71",
   "metadata": {},
   "outputs": [
    {
     "name": "stdout",
     "output_type": "stream",
     "text": [
      "         Cancelled  DepDelay  ArrDelay  DepTime  DepDelayMinutes  DepDel15  \\\n",
      "0            False      -5.0      -8.0   1157.0              0.0       0.0   \n",
      "1            False      -5.0      -6.0   1157.0              0.0       0.0   \n",
      "2            False      -9.0      -2.0   1153.0              0.0       0.0   \n",
      "3            False     -12.0     -11.0   1150.0              0.0       0.0   \n",
      "4            False      -5.0      -1.0   1355.0              0.0       0.0   \n",
      "...            ...       ...       ...      ...              ...       ...   \n",
      "5689507      False     -12.0     -31.0   1433.0              0.0       0.0   \n",
      "5689508      False     -11.0     -11.0   1224.0              0.0       0.0   \n",
      "5689509      False     -14.0     -27.0   1016.0              0.0       0.0   \n",
      "5689510      False      -7.0      -9.0   1403.0              0.0       0.0   \n",
      "5689511      False      -6.0     -14.0   1754.0              0.0       0.0   \n",
      "\n",
      "         ArrTime  ArrDelayMinutes  ArrDel15  \n",
      "0         1256.0              0.0       0.0  \n",
      "1         1258.0              0.0       0.0  \n",
      "2         1302.0              0.0       0.0  \n",
      "3         1253.0              0.0       0.0  \n",
      "4         1459.0              0.0       0.0  \n",
      "...          ...              ...       ...  \n",
      "5689507   1515.0              0.0       0.0  \n",
      "5689508   1344.0              0.0       0.0  \n",
      "5689509   1137.0              0.0       0.0  \n",
      "5689510   1717.0              0.0       0.0  \n",
      "5689511   1919.0              0.0       0.0  \n",
      "\n",
      "[5689512 rows x 9 columns]\n"
     ]
    }
   ],
   "source": [
    "df_filled = df_selected.fillna(df_selected.mean())\n",
    "print(df_filled)"
   ]
  },
  {
   "cell_type": "code",
   "execution_count": 21,
   "id": "a7b170d5",
   "metadata": {},
   "outputs": [
    {
     "data": {
      "text/plain": [
       "Cancelled          0\n",
       "DepDelay           0\n",
       "ArrDelay           0\n",
       "DepTime            0\n",
       "DepDelayMinutes    0\n",
       "DepDel15           0\n",
       "ArrTime            0\n",
       "ArrDelayMinutes    0\n",
       "ArrDel15           0\n",
       "dtype: int64"
      ]
     },
     "execution_count": 21,
     "metadata": {},
     "output_type": "execute_result"
    }
   ],
   "source": [
    "df_filled.isnull().sum()"
   ]
  },
  {
   "cell_type": "code",
   "execution_count": 22,
   "id": "4f9d66fb",
   "metadata": {},
   "outputs": [],
   "source": [
    "from sklearn.model_selection import train_test_split\n",
    "\n",
    "X_train, X_test, y_train, y_test = train_test_split(df_filled.drop('Cancelled',axis=1), df_filled['Cancelled'], test_size=0.3, random_state=111)\n"
   ]
  },
  {
   "cell_type": "code",
   "execution_count": 23,
   "id": "9c0970dd",
   "metadata": {},
   "outputs": [],
   "source": [
    "import matplotlib.pyplot as plt\n",
    "import matplotlib.ticker as ticker\n",
    "from sklearn.metrics import precision_recall_curve\n",
    "from sklearn.metrics import confusion_matrix\n",
    "from sklearn.metrics import roc_curve\n",
    "from sklearn.metrics import f1_score\n",
    "\n",
    "def get_clf_eval(y_test, pred):\n",
    "    confusion = confusion_matrix(y_test, pred)\n",
    "    accuracy = accuracy_score(y_test, pred)\n",
    "    precision = precision_score(y_test, pred)\n",
    "    recall = recall_score(y_test, pred)\n",
    "    #F1 스코어 추가\n",
    "    f1 = f1_score(y_test, pred)\n",
    "    print('오차 행렬')\n",
    "    print(confusion)\n",
    "    # f1 score print 추가 \n",
    "    print('정확도:{0:.4f}, 정밀도:{1:.4f}, 재현율:{2:.4f},F1:{3:.4f}'.format(accuracy, precision, recall, f1))\n"
   ]
  },
  {
   "cell_type": "code",
   "execution_count": 9,
   "id": "f56fa916",
   "metadata": {},
   "outputs": [
    {
     "name": "stdout",
     "output_type": "stream",
     "text": [
      "오차 행렬\n",
      "[[1680271      14]\n",
      " [  26558      11]]\n",
      "정확도:0.9844, 정밀도:0.4400, 재현율:0.0004,F1:0.0008\n"
     ]
    }
   ],
   "source": [
    "Ir_clf = LogisticRegression(solver='liblinear')\n",
    "\n",
    "Ir_clf.fit(X_train,y_train)\n",
    "pred = Ir_clf.predict(X_test)\n",
    "get_clf_eval(y_test,pred)"
   ]
  },
  {
   "cell_type": "code",
   "execution_count": 11,
   "id": "bd3b8ff7",
   "metadata": {},
   "outputs": [
    {
     "data": {
      "image/png": "[encoded data removed]",
      "text/plain": [
       "<Figure size 640x480 with 1 Axes>"
      ]
     },
     "metadata": {},
     "output_type": "display_data"
    }
   ],
   "source": [
    "pred_proba = Ir_clf.predict_proba(X_test)\n",
    "def roc_curve_plot(y_test, pred_proba_c1):\n",
    "    #임곗값에 따른 FPR, TPR값을 반환받음.\n",
    "    fprs, tprs, thresholds = roc_curve(y_test, pred_proba_c1)\n",
    "    #ROC 곡선을 그래프 곡선으로 그림\n",
    "    plt.plot(fprs, tprs, label='ROC')\n",
    "    #가운데 대각선 직선을 그림\n",
    "    plt.plot([0,1], [0,1], 'k--', label='Random')\n",
    "    \n",
    "    #FPR X축의 Scale을 0.1 단위로 변경, X,Y축 명 설정 등\n",
    "    start, end = plt.xlim()\n",
    "    plt.xticks(np.round(np.arange(start,end,0.1),2))\n",
    "    plt.xlim(0,1);plt.ylim(0,1)\n",
    "    plt.xlabel('FPR(1-Specificity)');plt.ylabel('TPR(Recall)')\n",
    "    plt.legend()\n",
    "    \n",
    "roc_curve_plot(y_test, pred_proba[:,1])"
   ]
  },
  {
   "cell_type": "code",
   "execution_count": 13,
   "id": "bf1dc951",
   "metadata": {},
   "outputs": [
    {
     "name": "stdout",
     "output_type": "stream",
     "text": [
      "오차 행렬\n",
      "[[1679933     352]\n",
      " [    375   26194]]\n",
      "정확도:0.9996, 정밀도:0.9867, 재현율:0.9859,F1:0.9863\n"
     ]
    }
   ],
   "source": [
    "Ir_clf = DecisionTreeClassifier()\n",
    "\n",
    "Ir_clf.fit(X_train,y_train)\n",
    "pred = Ir_clf.predict(X_test)\n",
    "get_clf_eval(y_test,pred)"
   ]
  },
  {
   "cell_type": "code",
   "execution_count": 14,
   "id": "02aa3bc3",
   "metadata": {},
   "outputs": [
    {
     "data": {
      "image/png": "[encoded data removed]",
      "text/plain": [
       "<Figure size 640x480 with 1 Axes>"
      ]
     },
     "metadata": {},
     "output_type": "display_data"
    }
   ],
   "source": [
    "pred_proba = Ir_clf.predict_proba(X_test)\n",
    "def roc_curve_plot(y_test, pred_proba_c1):\n",
    "    #임곗값에 따른 FPR, TPR값을 반환받음.\n",
    "    fprs, tprs, thresholds = roc_curve(y_test, pred_proba_c1)\n",
    "    #ROC 곡선을 그래프 곡선으로 그림\n",
    "    plt.plot(fprs, tprs, label='ROC')\n",
    "    #가운데 대각선 직선을 그림\n",
    "    plt.plot([0,1], [0,1], 'k--', label='Random')\n",
    "    \n",
    "    #FPR X축의 Scale을 0.1 단위로 변경, X,Y축 명 설정 등\n",
    "    start, end = plt.xlim()\n",
    "    plt.xticks(np.round(np.arange(start,end,0.1),2))\n",
    "    plt.xlim(0,1);plt.ylim(0,1)\n",
    "    plt.xlabel('FPR(1-Specificity)');plt.ylabel('TPR(Recall)')\n",
    "    plt.legend()\n",
    "    \n",
    "roc_curve_plot(y_test, pred_proba[:,1])"
   ]
  },
  {
   "cell_type": "code",
   "execution_count": null,
   "id": "2ac3d7b3",
   "metadata": {},
   "outputs": [],
   "source": [
    "Ir_clf = RandomForestClassifier()\n",
    "Ir_clf.fit(X_train,y_train)\n",
    "pred = Ir_clf.predict(X_test)\n",
    "get_clf_eval(y_test,pred)"
   ]
  },
  {
   "cell_type": "code",
   "execution_count": null,
   "id": "e44a4c5c",
   "metadata": {},
   "outputs": [],
   "source": [
    "pred_proba = Ir_clf.predict_proba(X_test)\n",
    "def roc_curve_plot(y_test, pred_proba_c1):\n",
    "    #임곗값에 따른 FPR, TPR값을 반환받음.\n",
    "    fprs, tprs, thresholds = roc_curve(y_test, pred_proba_c1)\n",
    "    #ROC 곡선을 그래프 곡선으로 그림\n",
    "    plt.plot(fprs, tprs, label='ROC')\n",
    "    #가운데 대각선 직선을 그림\n",
    "    plt.plot([0,1], [0,1], 'k--', label='Random')\n",
    "    \n",
    "    #FPR X축의 Scale을 0.1 단위로 변경, X,Y축 명 설정 등\n",
    "    start, end = plt.xlim()\n",
    "    plt.xticks(np.round(np.arange(start,end,0.1),2))\n",
    "    plt.xlim(0,1);plt.ylim(0,1)\n",
    "    plt.xlabel('FPR(1-Specificity)');plt.ylabel('TPR(Recall)')\n",
    "    plt.legend()\n",
    "    \n",
    "roc_curve_plot(y_test, pred_proba[:,1])"
   ]
  },
  {
   "cell_type": "code",
   "execution_count": null,
   "id": "06bc5141",
   "metadata": {},
   "outputs": [],
   "source": [
    "Ir_clf = KNeighborsClassifier()\n",
    "Ir_clf.fit(X_train,y_train)\n",
    "pred = Ir_clf.predict(X_test)\n",
    "get_clf_eval(y_test,pred)"
   ]
  },
  {
   "cell_type": "code",
   "execution_count": null,
   "id": "625071eb",
   "metadata": {},
   "outputs": [],
   "source": [
    "pred_proba = Ir_clf.predict_proba(X_test)\n",
    "def roc_curve_plot(y_test, pred_proba_c1):\n",
    "    #임곗값에 따른 FPR, TPR값을 반환받음.\n",
    "    fprs, tprs, thresholds = roc_curve(y_test, pred_proba_c1)\n",
    "    #ROC 곡선을 그래프 곡선으로 그림\n",
    "    plt.plot(fprs, tprs, label='ROC')\n",
    "    #가운데 대각선 직선을 그림\n",
    "    plt.plot([0,1], [0,1], 'k--', label='Random')\n",
    "    \n",
    "    #FPR X축의 Scale을 0.1 단위로 변경, X,Y축 명 설정 등\n",
    "    start, end = plt.xlim()\n",
    "    plt.xticks(np.round(np.arange(start,end,0.1),2))\n",
    "    plt.xlim(0,1);plt.ylim(0,1)\n",
    "    plt.xlabel('FPR(1-Specificity)');plt.ylabel('TPR(Recall)')\n",
    "    plt.legend()\n",
    "    \n",
    "roc_curve_plot(y_test, pred_proba[:,1])"
   ]
  },
  {
   "cell_type": "code",
   "execution_count": null,
   "id": "6a874c7d",
   "metadata": {},
   "outputs": [],
   "source": []
  },
  {
   "cell_type": "code",
   "execution_count": null,
   "id": "8f0bb55c",
   "metadata": {},
   "outputs": [],
   "source": []
  }
 ],
 "metadata": {
  "kernelspec": {
   "display_name": "Python 3 (ipykernel)",
   "language": "python",
   "name": "python3"
  },
  "language_info": {
   "codemirror_mode": {
    "name": "ipython",
    "version": 3
   },
   "file_extension": ".py",
   "mimetype": "text/x-python",
   "name": "python",
   "nbconvert_exporter": "python",
   "pygments_lexer": "ipython3",
   "version": "3.9.7"
  }
 },
 "nbformat": 4,
 "nbformat_minor": 5
}
