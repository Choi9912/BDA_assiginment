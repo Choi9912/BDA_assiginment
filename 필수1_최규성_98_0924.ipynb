{
 "cells": [
  {
   "cell_type": "markdown",
   "id": "abe5b8d2",
   "metadata": {},
   "source": [
    "### 특이도 Specificity 와 G-mean (기하평균) 개념 정리하기\n"
   ]
  },
  {
   "cell_type": "markdown",
   "id": "801fb8bb",
   "metadata": {},
   "source": [
    "특이도(Specificity)와 G-mean(기하평균)은 통계학과 머신러닝에서 분류 모델의 성능을 평가하기 위해 사용되는 개념입니다.\n",
    "\n",
    "특이도(Specificity): 특이도는 실제 음성인 샘플 중에서 정확히 음성으로 예측한 비율을 나타냅니다. 이는 거짓 양성(FP: False Positive) 오류를 최소화하는 것에 관심이 있는 경우 유용합니다. 거짓 양성 오류란 실제로는 음성인데 잘못해서 양성으로 예측한 경우를 말합니다.\n",
    "특이도는 다음과 같은 공식으로 계산됩니다:\n",
    "특이도 = TN / (TN + FP)\n",
    "\n",
    "여기서 TN은 실제 음성인 샘플 중에서 정확히 음성으로 예측된 수, FP는 실제로는 음성인데 잘못해서 양성으로 예측된 수를 나타냅니다. 특이도의 값은 0부터 1까지 범위에 있으며, 1에 가까울수록 좋은 성능을 나타냅니다.\n",
    "\n",
    "G-mean(기하평균): G-mean은 분류 모델의 민감도(Sensitivity, 재현율)와 특이도의 조화 평균입니다. 이 지표는 클래스 간 불균형(unbalanced) 데이터셋에서 모델의 성능을 평가하는 데 유용합니다.\n",
    "G-mean은 다음과 같은 공식으로 계산됩니다:\n",
    "G-mean = √(Sensitivity × Specificity)\n",
    "\n",
    "여기서 Sensitivity(민감도, 재현율)는 실제 양성인 샘플 중에서 정확히 양성으로 예측한 비율입니다. Sensitivity 값은 0부터 1까지 범위에 있으며, 1에 가까울수록 좋습니다."
   ]
  },
  {
   "cell_type": "code",
   "execution_count": null,
   "id": "a6428919",
   "metadata": {},
   "outputs": [],
   "source": []
  }
 ],
 "metadata": {
  "kernelspec": {
   "display_name": "Python 3 (ipykernel)",
   "language": "python",
   "name": "python3"
  },
  "language_info": {
   "codemirror_mode": {
    "name": "ipython",
    "version": 3
   },
   "file_extension": ".py",
   "mimetype": "text/x-python",
   "name": "python",
   "nbconvert_exporter": "python",
   "pygments_lexer": "ipython3",
   "version": "3.9.7"
  }
 },
 "nbformat": 4,
 "nbformat_minor": 5
}
