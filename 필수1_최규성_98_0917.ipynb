{
 "cells": [
  {
   "cell_type": "markdown",
   "id": "85207a73",
   "metadata": {},
   "source": [
    "# 필수과제 1\n",
    " - weighted 구글링하셔서\n",
    " - 내용설명과 실제 코드 작성해서\n",
    " - 값에 대한 비교 정리하기\n",
    "\n",
    "# 필수과제 2\n",
    " - 추가로 1개 또느 2개 이하로 다른 교차검증 패키지 사용해 보기\n",
    " - 개념설명과 실제 적용해서 나온 결과 값을 비교하기\n",
    " - e.g) 타이타닉 데이터로 한다면 기존에 교차검증과 새롭게 진행한 교차검증의 차이를 비교해 주세요\n",
    "\n",
    "* 필수과제 1,2는 기존에 공유 드렸던 salary 데이터로 꼭 해주시길 바랍니다!"
   ]
  },
  {
   "cell_type": "code",
   "execution_count": 1,
   "id": "e3c93eaf",
   "metadata": {},
   "outputs": [
    {
     "data": {
      "text/plain": [
       "Unnamed: 0           0\n",
       "age                  0\n",
       "workclass         2799\n",
       "education            0\n",
       "education-num        0\n",
       "marital-status       0\n",
       "occupation        2809\n",
       "relationship         0\n",
       "race                 0\n",
       "sex                  0\n",
       "capital-gain         0\n",
       "capital-loss         0\n",
       "hours-per-week       0\n",
       "native-country     857\n",
       "class                0\n",
       "dtype: int64"
      ]
     },
     "execution_count": 1,
     "metadata": {},
     "output_type": "execute_result"
    }
   ],
   "source": [
    "from sklearn.datasets import load_iris\n",
    "from sklearn.tree import DecisionTreeClassifier\n",
    "from sklearn.model_selection import train_test_split\n",
    "from sklearn.metrics import accuracy_score, precision_score, recall_score #Confusion matrix 수업 때 진행할 예정 \n",
    "from sklearn.model_selection import KFold\n",
    "from sklearn.metrics import classification_report\n",
    "from sklearn.metrics import accuracy_score\n",
    "from sklearn.model_selection import cross_val_predict\n",
    "from sklearn.model_selection import GridSearchCV\n",
    "from sklearn.model_selection import RandomizedSearchCV\n",
    "import numpy as np\n",
    "import pandas as pd\n",
    "import seaborn as sns\n",
    "df = pd.read_csv(\"salary_class.csv\")\n",
    "df.isnull().sum()"
   ]
  },
  {
   "cell_type": "code",
   "execution_count": 2,
   "id": "4619d556",
   "metadata": {},
   "outputs": [
    {
     "name": "stdout",
     "output_type": "stream",
     "text": [
      "<class 'pandas.core.frame.DataFrame'>\n",
      "RangeIndex: 48842 entries, 0 to 48841\n",
      "Data columns (total 15 columns):\n",
      " #   Column          Non-Null Count  Dtype \n",
      "---  ------          --------------  ----- \n",
      " 0   Unnamed: 0      48842 non-null  int64 \n",
      " 1   age             48842 non-null  int64 \n",
      " 2   workclass       46043 non-null  object\n",
      " 3   education       48842 non-null  object\n",
      " 4   education-num   48842 non-null  int64 \n",
      " 5   marital-status  48842 non-null  object\n",
      " 6   occupation      46033 non-null  object\n",
      " 7   relationship    48842 non-null  object\n",
      " 8   race            48842 non-null  object\n",
      " 9   sex             48842 non-null  object\n",
      " 10  capital-gain    48842 non-null  int64 \n",
      " 11  capital-loss    48842 non-null  int64 \n",
      " 12  hours-per-week  48842 non-null  int64 \n",
      " 13  native-country  47985 non-null  object\n",
      " 14  class           48842 non-null  int64 \n",
      "dtypes: int64(7), object(8)\n",
      "memory usage: 5.6+ MB\n"
     ]
    }
   ],
   "source": [
    "df.info()"
   ]
  },
  {
   "cell_type": "code",
   "execution_count": 4,
   "id": "6022022d",
   "metadata": {},
   "outputs": [],
   "source": [
    "df['workclass'].fillna('Unknown', inplace=True)\n",
    "df['occupation'].fillna('Unknown', inplace=True)\n",
    "df['native-country'].fillna('Unknown', inplace=True)\n",
    "\n",
    "# Feature와 Label로 데이터를 나눕니다.\n",
    "X = df.drop(['class'], axis=1)  # 입력 변수 (Feature)\n",
    "y = df['class']  # 출력 변수 (Label)"
   ]
  },
  {
   "cell_type": "code",
   "execution_count": 5,
   "id": "ea0a8cde",
   "metadata": {},
   "outputs": [],
   "source": [
    "\n",
    "# 범주형 변수들을 원-핫 인코딩으로 변환합니다.\n",
    "X_encoded = pd.get_dummies(X)\n",
    "\n",
    "# Train set과 Test set으로 데이터를 나눕니다.\n",
    "X_train, X_test, y_train, y_test = train_test_split(X_encoded, y, test_size=0.2, random_state=42)\n",
    "\n",
    "# Decision Tree 모델 객체를 생성하고 학습시킵니다.\n",
    "model_sp1 = DecisionTreeClassifier(random_state=111, max_depth=3)\n",
    "model_sp1.fit(X_train, y_train) #모델 학습\n",
    "\n",
    "pred_train_sp = model_sp1.predict(X_train) #train 예측\n",
    "pred_test_sp = model_sp1.predict(X_test) # test예측"
   ]
  },
  {
   "cell_type": "code",
   "execution_count": 7,
   "id": "9c93d39a",
   "metadata": {},
   "outputs": [
    {
     "name": "stdout",
     "output_type": "stream",
     "text": [
      "0.8423719704143526\n",
      "0.8514689323369843\n"
     ]
    }
   ],
   "source": [
    "# 정확도(accuracy)를 평가합니다.\n",
    "print(accuracy_score(y_train, pred_train_sp))\n",
    "print(accuracy_score(y_test, pred_test_sp))"
   ]
  },
  {
   "cell_type": "markdown",
   "id": "19fb6c7e",
   "metadata": {},
   "source": [
    "# weighted\n",
    "- weighted는 샘플링 과정에서 각 데이터 포인트에 가중치를 부여하는 방법을 의미합니다. 일반적으로 cross validation은 모델의 성능을 평가하기 위해 데이터를 여러 개의 fold로 나누고, 각 fold를 순차적으로 훈련 및 검증하는 과정입니다."
   ]
  },
  {
   "cell_type": "code",
   "execution_count": 15,
   "id": "a6c2bda6",
   "metadata": {},
   "outputs": [
    {
     "name": "stdout",
     "output_type": "stream",
     "text": [
      "0.843\n"
     ]
    }
   ],
   "source": [
    "from sklearn.model_selection import cross_val_score, cross_validate\n",
    "scores = cross_val_score(model_sp1, X_encoded, y, scoring='precision_micro',cv=5)\n",
    "print(np.round(np.mean(scores),3))"
   ]
  },
  {
   "cell_type": "code",
   "execution_count": 16,
   "id": "e36445f5",
   "metadata": {},
   "outputs": [
    {
     "name": "stdout",
     "output_type": "stream",
     "text": [
      "0.805\n"
     ]
    }
   ],
   "source": [
    "scores = cross_val_score(model_sp1, X_encoded, y, scoring='precision_macro',cv=5)\n",
    "print(np.round(np.mean(scores),3))"
   ]
  },
  {
   "cell_type": "code",
   "execution_count": 17,
   "id": "8cd0a898",
   "metadata": {},
   "outputs": [
    {
     "name": "stdout",
     "output_type": "stream",
     "text": [
      "0.835\n"
     ]
    }
   ],
   "source": [
    "scores = cross_val_score(model_sp1, X_encoded, y, scoring='precision_weighted',cv=5)\n",
    "print(np.round(np.mean(scores),3))"
   ]
  },
  {
   "cell_type": "markdown",
   "id": "e3f38c4a",
   "metadata": {},
   "source": [
    "# 값비교\n",
    "- micro = 0.843\n",
    "- macro = 0.805\n",
    "- weighted = 0.835"
   ]
  },
  {
   "cell_type": "code",
   "execution_count": null,
   "id": "4e5afb32",
   "metadata": {},
   "outputs": [],
   "source": []
  }
 ],
 "metadata": {
  "kernelspec": {
   "display_name": "Python 3 (ipykernel)",
   "language": "python",
   "name": "python3"
  },
  "language_info": {
   "codemirror_mode": {
    "name": "ipython",
    "version": 3
   },
   "file_extension": ".py",
   "mimetype": "text/x-python",
   "name": "python",
   "nbconvert_exporter": "python",
   "pygments_lexer": "ipython3",
   "version": "3.9.7"
  }
 },
 "nbformat": 4,
 "nbformat_minor": 5
}
